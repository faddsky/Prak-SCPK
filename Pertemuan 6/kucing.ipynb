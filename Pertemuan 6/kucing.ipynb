{
 "cells": [
  {
   "cell_type": "markdown",
   "metadata": {},
   "source": [
    "SAW - PEMILIHAN kUCING"
   ]
  },
  {
   "cell_type": "markdown",
   "metadata": {},
   "source": [
    "Alternatif, Kriteria, Bobot"
   ]
  },
  {
   "cell_type": "code",
   "execution_count": null,
   "metadata": {},
   "outputs": [],
   "source": [
    "import numpy as np\n",
    "import pandas as pd"
   ]
  },
  {
   "cell_type": "markdown",
   "metadata": {},
   "source": [
    "alternatif"
   ]
  },
  {
   "cell_type": "code",
   "execution_count": 13,
   "metadata": {},
   "outputs": [
    {
     "name": "stdout",
     "output_type": "stream",
     "text": [
      "Matriks Keputusan : \n",
      "          Kesehatan  Keaktifan  Harga\n",
      "Kucing A          4          3      3\n",
      "Kucing B          2          1      3\n",
      "Kucing C          5          5      4\n",
      "\n",
      "Bobot yang diberikan\n",
      "Bobot =  [0.4 0.2 0.1]\n",
      "\n",
      "Atribut tiap kriteria\n",
      "Atribut = [1 1 0]\n"
     ]
    }
   ],
   "source": [
    "alternatif = ['Kucing A', 'Kucing B', 'Kucing C']\n",
    "kriteria = ['Kesehatan', 'Keaktifan', 'Harga']\n",
    "\n",
    "data = np.array([\n",
    "    [4, 3, 3], #kucing a\n",
    "    [2, 1, 3], # kucing b\n",
    "    [5, 5, 4] #kucing c\n",
    "])\n",
    "\n",
    "# menentukan Nilai Atribut Masing\" Kriteria (1 = benefit, 0 = cost)\n",
    "atribut = np.array([1,1,0])\n",
    "\n",
    "# Bobot\n",
    "bobot = np.array([0.4, 0.2, 0.1])\n",
    "\n",
    "df = pd.DataFrame(data, index=alternatif, columns=kriteria)\n",
    "print(\"Matriks Keputusan : \")\n",
    "print(df)\n",
    "\n",
    "print(\"\\nBobot yang diberikan\")\n",
    "print(\"Bobot = \", bobot)\n",
    "print(\"\\nAtribut tiap kriteria\")\n",
    "print(\"Atribut =\", atribut)"
   ]
  },
  {
   "cell_type": "markdown",
   "metadata": {},
   "source": [
    "TAHAP 1 : NORMALISASI"
   ]
  },
  {
   "cell_type": "code",
   "execution_count": 14,
   "metadata": {},
   "outputs": [
    {
     "name": "stdout",
     "output_type": "stream",
     "text": [
      "Matriks Ternormalisasi : \n",
      "          Kesehatan  Keaktifan  Harga\n",
      "Kucing A        0.8        0.6   1.00\n",
      "Kucing B        0.4        0.2   1.00\n",
      "Kucing C        1.0        1.0   0.75\n"
     ]
    }
   ],
   "source": [
    "m, n = data.shape\n",
    "normalized_matrix = np.zeros((m, n))\n",
    "\n",
    "# Normalisasi\n",
    "for j in range(n):\n",
    "    if atribut[j] == 1: # Kriteria Benefit\n",
    "        normalized_matrix[:, j] = data[:, j] / np.max(data[:,j]) #max(data[:, j])\n",
    "    else: # Kriteria Cost\n",
    "        normalized_matrix[:, j] = np.min(data[:, j]) / data[:, j]\n",
    "\n",
    "normalized_df = pd.DataFrame(normalized_matrix, index=alternatif, columns=kriteria)\n",
    "print(\"Matriks Ternormalisasi : \")\n",
    "print(normalized_df)\n",
    "\n"
   ]
  },
  {
   "cell_type": "markdown",
   "metadata": {},
   "source": [
    "TAHAP 2 : MENGHITUNG NILAI PREFERENSI"
   ]
  },
  {
   "cell_type": "code",
   "execution_count": 15,
   "metadata": {},
   "outputs": [
    {
     "name": "stdout",
     "output_type": "stream",
     "text": [
      "\n",
      "Hasil Rangking : \n",
      "          Nilai Preferensi\n",
      "Kucing C             0.675\n",
      "Kucing A             0.540\n",
      "Kucing B             0.300\n",
      "\n",
      "Alternatif terbaik adalah : Kucing C\n"
     ]
    }
   ],
   "source": [
    "value_preferensi = np.dot(normalized_matrix, bobot)\n",
    "\n",
    "# Hasil\n",
    "ranking = pd.DataFrame(value_preferensi, index=alternatif, columns=[\"Nilai Preferensi\"])\n",
    "sort_ranking = ranking.sort_values(by='Nilai Preferensi', ascending=False)\n",
    "print(\"\\nHasil Rangking : \")\n",
    "print(sort_ranking)\n",
    "\n",
    "best_alternatif = sort_ranking.index[0]\n",
    "print(f\"\\nAlternatif terbaik adalah : {best_alternatif}\")\n",
    "\n"
   ]
  }
 ],
 "metadata": {
  "kernelspec": {
   "display_name": "Python 3",
   "language": "python",
   "name": "python3"
  },
  "language_info": {
   "codemirror_mode": {
    "name": "ipython",
    "version": 3
   },
   "file_extension": ".py",
   "mimetype": "text/x-python",
   "name": "python",
   "nbconvert_exporter": "python",
   "pygments_lexer": "ipython3",
   "version": "3.13.2"
  }
 },
 "nbformat": 4,
 "nbformat_minor": 2
}
