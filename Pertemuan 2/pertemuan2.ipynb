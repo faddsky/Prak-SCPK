{
 "cells": [
  {
   "cell_type": "markdown",
   "metadata": {},
   "source": [
    "# PERTEMUAN 2 MATRIKS"
   ]
  },
  {
   "cell_type": "code",
   "execution_count": 1,
   "metadata": {},
   "outputs": [],
   "source": [
    "import numpy as np"
   ]
  },
  {
   "cell_type": "code",
   "execution_count": 3,
   "metadata": {},
   "outputs": [
    {
     "name": "stdout",
     "output_type": "stream",
     "text": [
      "Skalar :  5\n",
      "\n",
      "\n",
      "Vektor Baris :  [1 2 3]\n",
      "\n",
      "\n",
      "Matriks 2D : \n",
      "[[1 2 3]\n",
      " [4 5 6]]\n",
      "Matriks 3x3 : \n",
      "[[1 2 3]\n",
      " [4 5 6]\n",
      " [7 8 9]]\n"
     ]
    }
   ],
   "source": [
    "#Skalar\n",
    "scalar = np.array(5)\n",
    "print(\"Skalar : \", scalar)\n",
    "print(\"\\n\")\n",
    "\n",
    "#Vektor Baris (1xn)\n",
    "row_vector = np.array([1,2,3])\n",
    "print(\"Vektor Baris : \", row_vector)\n",
    "print(\"\\n\")\n",
    "\n",
    "#Matriks 2D\n",
    "matrix = np.array([[1,2,3],[4,5,6]])\n",
    "print(\"Matriks 2D : \")\n",
    "print(matrix)\n",
    "\n",
    "#Matriks 3x3\n",
    "m3x = np.array([[1,2,3],[4,5,6],[7,8,9]])\n",
    "print(\"Matriks 3x3 : \")\n",
    "print(m3x)"
   ]
  },
  {
   "cell_type": "markdown",
   "metadata": {},
   "source": [
    "### OPERASI MATRIKS"
   ]
  },
  {
   "cell_type": "code",
   "execution_count": 10,
   "metadata": {},
   "outputs": [
    {
     "name": "stdout",
     "output_type": "stream",
     "text": [
      "Hasil Penjumlahan : \n",
      "[[ 6  8]\n",
      " [10 12]]\n",
      "Hasil Pengurangan : \n",
      "[[-4 -4]\n",
      " [-4 -4]]\n",
      "Hasil Perkalian : \n",
      "[[334 416]\n",
      " [758 944]]\n",
      "Transpose A : \n",
      "[[1 3]\n",
      " [2 4]]\n"
     ]
    }
   ],
   "source": [
    "A = np.array([[1,2],[3,4]])\n",
    "B = np.array([[5,6],[7,8]])\n",
    "\n",
    "# Penjumlahan\n",
    "C = A + B\n",
    "print(\"Hasil Penjumlahan : \")\n",
    "print(C)\n",
    "\n",
    "# Pengurangan\n",
    "D = A - B\n",
    "print(\"Hasil Pengurangan : \")\n",
    "print(D)\n",
    "\n",
    "# Perkalian\n",
    "E = np.dot(np.dot(A, B), C)\n",
    "print(\"Hasil Perkalian : \")\n",
    "print(E)\n",
    "\n",
    "# Transpose\n",
    "A_T = A.T\n",
    "print(\"Transpose A : \")\n",
    "print(A_T)"
   ]
  },
  {
   "cell_type": "markdown",
   "metadata": {},
   "source": [
    "### OPERASI ELEMEN PADA MATRIKS"
   ]
  },
  {
   "cell_type": "code",
   "execution_count": 13,
   "metadata": {},
   "outputs": [
    {
     "name": "stdout",
     "output_type": "stream",
     "text": [
      "Perkalian Elemen-per-elemen : \n",
      "[[ 5 12]\n",
      " [21 32]]\n",
      "Pangkat Elemen : \n",
      "[[ 1  4]\n",
      " [ 9 16]]\n"
     ]
    }
   ],
   "source": [
    "F = A * B\n",
    "print(\"Perkalian Elemen-per-elemen : \")\n",
    "print(F)\n",
    "\n",
    "G = A ** 2\n",
    "print(\"Pangkat Elemen : \")\n",
    "print(G)"
   ]
  },
  {
   "cell_type": "markdown",
   "metadata": {},
   "source": [
    "### PENYELESAIAN SPL dengan MATRIKS"
   ]
  },
  {
   "cell_type": "code",
   "execution_count": 16,
   "metadata": {},
   "outputs": [
    {
     "name": "stdout",
     "output_type": "stream",
     "text": [
      "A\n",
      "[[1 2]\n",
      " [3 4]]\n",
      "B\n",
      "[10 24]\n",
      "Solusi SPL :  [4. 3.]\n"
     ]
    }
   ],
   "source": [
    "# x + 2y = 10\n",
    "# 3x + 4y = 24\n",
    "\n",
    "A = np.array([[1,2],[3,4]])\n",
    "B = np.array([10,24])\n",
    "\n",
    "print(\"A\")\n",
    "print(A)\n",
    "print(\"B\")\n",
    "print(B)\n",
    "\n",
    "X = np.linalg.solve(A, B)\n",
    "print(\"Solusi SPL : \", X)"
   ]
  },
  {
   "cell_type": "markdown",
   "metadata": {},
   "source": [
    "### MANIPULASI MATRIKS"
   ]
  },
  {
   "cell_type": "code",
   "execution_count": 19,
   "metadata": {},
   "outputs": [
    {
     "name": "stdout",
     "output_type": "stream",
     "text": [
      "[[1 2]\n",
      " [3 4]]\n",
      "[[5 6]\n",
      " [7 8]]\n",
      "Hasil : \n",
      "[[1 2 5 6]\n",
      " [3 4 7 8]]\n",
      "Hasil : \n",
      "[[5 6]\n",
      " [7 8]\n",
      " [1 2]\n",
      " [3 4]]\n"
     ]
    }
   ],
   "source": [
    "A = np.array([[1,2],[3,4]])\n",
    "B = np.array([[5,6],[7,8]])\n",
    "\n",
    "print(A)\n",
    "print(B)\n",
    "\n",
    "# Penggabungan Horizontal\n",
    "H = np.hstack((A, B))\n",
    "print(\"Hasil : \")\n",
    "print(H)\n",
    "\n",
    "# Penggabungan Vertikal\n",
    "V = np.vstack((B, A))\n",
    "print(\"Hasil : \")\n",
    "print(V)"
   ]
  }
 ],
 "metadata": {
  "kernelspec": {
   "display_name": "Python 3",
   "language": "python",
   "name": "python3"
  },
  "language_info": {
   "codemirror_mode": {
    "name": "ipython",
    "version": 3
   },
   "file_extension": ".py",
   "mimetype": "text/x-python",
   "name": "python",
   "nbconvert_exporter": "python",
   "pygments_lexer": "ipython3",
   "version": "3.11.9"
  }
 },
 "nbformat": 4,
 "nbformat_minor": 2
}
