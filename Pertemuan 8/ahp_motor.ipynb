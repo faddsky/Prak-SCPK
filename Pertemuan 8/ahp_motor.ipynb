{
 "cells": [
  {
   "cell_type": "markdown",
   "id": "7b5cc53b",
   "metadata": {},
   "source": [
    "# Pertemuan 8 - SPK dengan AHP"
   ]
  },
  {
   "cell_type": "markdown",
   "id": "c2c18dc5",
   "metadata": {},
   "source": [
    "Studi Kasus: Pemilihan pembelian motor."
   ]
  },
  {
   "cell_type": "markdown",
   "id": "723f4588",
   "metadata": {},
   "source": [
    "## Pengaturan Data"
   ]
  },
  {
   "cell_type": "markdown",
   "id": "0a677c5d",
   "metadata": {},
   "source": [
    "Penentuan **Alternatif** dan **Kriteria**\n",
    "- Alternatif:\n",
    "  - A1: Yamaha\n",
    "  - A2: Honda\n",
    "  - A3: Suzuki\n",
    "  - A4: Kawasaki\n",
    "- Kriteria:\n",
    "  - C1: Gaya\n",
    "  - C2: Keandalan\n",
    "  - C3: Keekonomisan Bahan Bakar"
   ]
  },
  {
   "cell_type": "markdown",
   "id": "4bd4ff03",
   "metadata": {},
   "source": [
    "**Tingkat Kepentingan**:\n",
    "| Intensitas | Keterangan |\n",
    "|------------|------------|\n",
    "| 1 | X dan Y sama penting/baik |\n",
    "| 2 | X sedikit lebih penting/baik dari Y |\n",
    "| 3 | X lebih penting/baik dari Y |\n",
    "| 4 | X jauh lebih penting/baik dari Y |"
   ]
  },
  {
   "cell_type": "markdown",
   "id": "3bc5bd77",
   "metadata": {},
   "source": [
    "**Preferensi Kriteria**\n",
    "1. *Keandalan* dua kali lebih penting dari gaya.\n",
    "2. *Gaya* tiga kali lebih penting dari keekonomisan bahan bakar.\n",
    "3. *Keandalan* empat kali lebih penting dari keekonomisan bahan bakar."
   ]
  },
  {
   "cell_type": "markdown",
   "id": "b8fa396a",
   "metadata": {},
   "source": [
    "**Preferensi Alternatif**\n",
    "1. Preferensi Gaya:\n",
    "   - Kawasaki > Honda > Yamaha > Suzuki\n",
    "2. Preferensi Keandalan:\n",
    "   - Honda > Yamaha > Kawasaki > Suzuki \n",
    "3. Nilai Keekonomisan Bahan Bakar:\n",
    "   - Yamaha  : 60\n",
    "   - Honda   : 80\n",
    "   - Suzuki  : 60\n",
    "   - Kawasaki: 80"
   ]
  },
  {
   "cell_type": "markdown",
   "id": "7fcdf08c",
   "metadata": {},
   "source": [
    "## Library dan Fungsi Normalisasi"
   ]
  },
  {
   "cell_type": "markdown",
   "id": "3f96a6df",
   "metadata": {},
   "source": [
    "**Library**"
   ]
  },
  {
   "cell_type": "code",
   "execution_count": 1,
   "id": "18652ebe",
   "metadata": {},
   "outputs": [],
   "source": [
    "import numpy as np"
   ]
  },
  {
   "cell_type": "markdown",
   "id": "31dd8cd4",
   "metadata": {},
   "source": [
    "**Fungsi Normalisasi**"
   ]
  },
  {
   "cell_type": "code",
   "execution_count": 3,
   "id": "bfea4491",
   "metadata": {},
   "outputs": [],
   "source": [
    "def calc_norm(M):\n",
    "    print('\\nNormalisasi Matriks')\n",
    "    if M.ndim == 1:  # Check if M is a vector\n",
    "        sM = np.sum(M)\n",
    "        return M / sM\n",
    "    else:\n",
    "        sM = np.sum(M, axis=0)\n",
    "        return M / sM"
   ]
  },
  {
   "cell_type": "markdown",
   "id": "a919e040",
   "metadata": {},
   "source": [
    "## Step 1: Matrix Kriteria dan Eigenvector Kriteria"
   ]
  },
  {
   "cell_type": "markdown",
   "id": "f585616f",
   "metadata": {},
   "source": [
    "**Matrix**"
   ]
  },
  {
   "cell_type": "code",
   "execution_count": 2,
   "id": "322a36b2",
   "metadata": {},
   "outputs": [
    {
     "name": "stdout",
     "output_type": "stream",
     "text": [
      "[[1.         0.5        3.        ]\n",
      " [2.         1.         4.        ]\n",
      " [0.33333333 0.25       1.        ]]\n"
     ]
    }
   ],
   "source": [
    "# (G)   (A)    (E)    \n",
    "MPBk = np.array([\n",
    "    [1/1, 1/2, 3/1],  # (G-Gaya)\n",
    "    [2/1, 1/1, 4/1],  # (A-Keandalan)\n",
    "    [1/3, 1/4, 1/1]   # (E-Keekonomisan)\n",
    "])\n",
    "print(MPBk)"
   ]
  },
  {
   "cell_type": "markdown",
   "id": "67b04a7a",
   "metadata": {},
   "source": [
    "**Normalisasi**"
   ]
  },
  {
   "cell_type": "code",
   "execution_count": 4,
   "id": "12c1ab65",
   "metadata": {},
   "outputs": [
    {
     "name": "stdout",
     "output_type": "stream",
     "text": [
      "\n",
      "Normalisasi Matriks\n",
      "[[0.3        0.28571429 0.375     ]\n",
      " [0.6        0.57142857 0.5       ]\n",
      " [0.1        0.14285714 0.125     ]]\n"
     ]
    }
   ],
   "source": [
    "# Normalisasi\n",
    "w_MPB = calc_norm(MPBk)\n",
    "print(w_MPB)"
   ]
  },
  {
   "cell_type": "markdown",
   "id": "446d3280",
   "metadata": {},
   "source": [
    "**Eigenvector**"
   ]
  },
  {
   "cell_type": "code",
   "execution_count": null,
   "id": "8c2862e1",
   "metadata": {},
   "outputs": [],
   "source": [
    "m, n = w_MPB.shape\n",
    "V = np.zeros(m)\n",
    "for i in range(m):\n",
    "    V[i] = np.sum(w_MPB[i, :])\n",
    "    \n",
    "print('Eigenvektor')\n",
    "w_MPB = V / m\n",
    "print(w_MPB)"
   ]
  },
  {
   "cell_type": "markdown",
   "id": "e3cafcc3",
   "metadata": {},
   "source": [
    "## Step 2: Matrix Alternatif dan Eigenvector Alternatif"
   ]
  },
  {
   "cell_type": "markdown",
   "id": "fdfb9411",
   "metadata": {},
   "source": [
    "### Bandingkan Gaya"
   ]
  },
  {
   "cell_type": "markdown",
   "id": "57b77c15",
   "metadata": {},
   "source": [
    "**Matrix**"
   ]
  },
  {
   "cell_type": "code",
   "execution_count": 14,
   "id": "6bc5ef0b",
   "metadata": {},
   "outputs": [
    {
     "name": "stdout",
     "output_type": "stream",
     "text": [
      "\n",
      "Perbandingan Gaya: Alternatif Kualitatif Berpasangan\n",
      "[[1.         0.5        2.         0.33333333]\n",
      " [2.         1.         3.         0.5       ]\n",
      " [0.5        0.33333333 1.         0.25      ]\n",
      " [3.         2.         4.         1.        ]]\n"
     ]
    }
   ],
   "source": [
    "print('\\nPerbandingan Gaya: Alternatif Kualitatif Berpasangan')\n",
    "AKB_G = np.array([\n",
    "    [1/1, 1/2, 2/1, 1/3],\n",
    "    [2/1, 1/1, 3/1, 1/2],\n",
    "    [1/2, 1/3, 1/1, 1/4],\n",
    "    [3/1, 2/1, 4/1, 1/1]\n",
    "])\n",
    "print(AKB_G)"
   ]
  },
  {
   "cell_type": "markdown",
   "id": "72195adb",
   "metadata": {},
   "source": [
    "**Normalisasi**"
   ]
  },
  {
   "cell_type": "code",
   "execution_count": 15,
   "id": "25905e3b",
   "metadata": {},
   "outputs": [
    {
     "name": "stdout",
     "output_type": "stream",
     "text": [
      "\n",
      "Normalisasi Matriks\n",
      "[[0.15384615 0.13043478 0.2        0.16      ]\n",
      " [0.30769231 0.26086957 0.3        0.24      ]\n",
      " [0.07692308 0.08695652 0.1        0.12      ]\n",
      " [0.46153846 0.52173913 0.4        0.48      ]]\n"
     ]
    }
   ],
   "source": [
    "w_G = calc_norm(AKB_G)\n",
    "print(w_G)"
   ]
  },
  {
   "cell_type": "markdown",
   "id": "329b583b",
   "metadata": {},
   "source": [
    "**Eigenvector**"
   ]
  },
  {
   "cell_type": "code",
   "execution_count": 16,
   "id": "fdab4075",
   "metadata": {},
   "outputs": [
    {
     "name": "stdout",
     "output_type": "stream",
     "text": [
      "Eigenvector\n",
      "[0.16107023 0.27714047 0.0959699  0.4658194 ]\n"
     ]
    }
   ],
   "source": [
    "m, n = w_G.shape\n",
    "V = np.zeros(m)\n",
    "for i in range(m):\n",
    "    V[i] = np.sum(w_G[i, :])\n",
    "    \n",
    "print('Eigenvector')\n",
    "w_G = V / m\n",
    "print(w_G)"
   ]
  },
  {
   "cell_type": "markdown",
   "id": "78997d70",
   "metadata": {},
   "source": [
    "### Bandingkan Keandalan"
   ]
  },
  {
   "cell_type": "markdown",
   "id": "952a3910",
   "metadata": {},
   "source": [
    "**Matrix**"
   ]
  },
  {
   "cell_type": "code",
   "execution_count": 17,
   "id": "ec07ea73",
   "metadata": {},
   "outputs": [
    {
     "name": "stdout",
     "output_type": "stream",
     "text": [
      "Perbandingan Keandalan: Alternatif Kualitatif Berpasangan\n",
      "[[1.         0.5        3.         2.        ]\n",
      " [2.         1.         4.         3.        ]\n",
      " [0.33333333 0.25       1.         0.5       ]\n",
      " [0.5        0.33333333 2.         1.        ]]\n"
     ]
    }
   ],
   "source": [
    "print('Perbandingan Keandalan: Alternatif Kualitatif Berpasangan')\n",
    "AKB_A = np.array([\n",
    "    [1/1, 1/2, 3/1, 2/1],\n",
    "    [2/1, 1/1, 4/1, 3/1],\n",
    "    [1/3, 1/4, 1/1, 1/2],\n",
    "    [1/2, 1/3, 2/1, 1/1]\n",
    "])\n",
    "print(AKB_A)"
   ]
  },
  {
   "cell_type": "markdown",
   "id": "99626a73",
   "metadata": {},
   "source": [
    "**Normalisasi**"
   ]
  },
  {
   "cell_type": "code",
   "execution_count": 18,
   "id": "4a3899c3",
   "metadata": {},
   "outputs": [
    {
     "name": "stdout",
     "output_type": "stream",
     "text": [
      "\n",
      "Normalisasi Matriks\n",
      "[[0.26086957 0.24       0.3        0.30769231]\n",
      " [0.52173913 0.48       0.4        0.46153846]\n",
      " [0.08695652 0.12       0.1        0.07692308]\n",
      " [0.13043478 0.16       0.2        0.15384615]]\n"
     ]
    }
   ],
   "source": [
    "w_A = calc_norm(AKB_A)\n",
    "print(w_A)"
   ]
  },
  {
   "cell_type": "markdown",
   "id": "68aea16b",
   "metadata": {},
   "source": [
    "**Eigenvector**"
   ]
  },
  {
   "cell_type": "code",
   "execution_count": 19,
   "id": "017306c3",
   "metadata": {},
   "outputs": [
    {
     "name": "stdout",
     "output_type": "stream",
     "text": [
      "Eigenvector\n",
      "[0.27714047 0.4658194  0.0959699  0.16107023]\n"
     ]
    }
   ],
   "source": [
    "m, n = w_A.shape\n",
    "V = np.zeros(m)\n",
    "for i in range(m):\n",
    "    V[i] = np.sum(w_A[i, :])\n",
    "    \n",
    "print('Eigenvector')\n",
    "w_A = V / m\n",
    "print(w_A)"
   ]
  },
  {
   "cell_type": "markdown",
   "id": "0e150ac5",
   "metadata": {},
   "source": [
    "### Bandingkan Keekonomisan Bahan Bakar"
   ]
  },
  {
   "cell_type": "markdown",
   "id": "d73b27da",
   "metadata": {},
   "source": [
    "**Matrix**"
   ]
  },
  {
   "cell_type": "code",
   "execution_count": 20,
   "id": "5738c45f",
   "metadata": {},
   "outputs": [
    {
     "name": "stdout",
     "output_type": "stream",
     "text": [
      "Perbandingan Keekonomisan Bahan Bakar: Alternatif Kuantitatif\n",
      "[60 80 60 80]\n"
     ]
    }
   ],
   "source": [
    "print('Perbandingan Keekonomisan Bahan Bakar: Alternatif Kuantitatif')\n",
    "ym = 60  # yamaha\n",
    "hn = 80  # honda\n",
    "sz = 60  # suzuki\n",
    "kw = 80  # kawasaki\n",
    "    \n",
    "ACM_Fe = np.array([ym, hn, sz, kw])\n",
    "print(ACM_Fe)"
   ]
  },
  {
   "cell_type": "markdown",
   "id": "ef2363a8",
   "metadata": {},
   "source": [
    "**Normalisasi**"
   ]
  },
  {
   "cell_type": "code",
   "execution_count": 21,
   "id": "32f6b3ef",
   "metadata": {},
   "outputs": [
    {
     "name": "stdout",
     "output_type": "stream",
     "text": [
      "\n",
      "Normalisasi Matriks\n",
      "[0.21428571 0.28571429 0.21428571 0.28571429]\n"
     ]
    }
   ],
   "source": [
    "w_E = calc_norm(ACM_Fe)\n",
    "print(w_E)"
   ]
  },
  {
   "cell_type": "markdown",
   "id": "87d87c5f",
   "metadata": {},
   "source": [
    "## Step 3: Menghitung Vector Keputusan"
   ]
  },
  {
   "cell_type": "markdown",
   "id": "a92ee64d",
   "metadata": {},
   "source": [
    "**Gabung Nilai Eigenvector menjadi Matrix**"
   ]
  },
  {
   "cell_type": "code",
   "execution_count": 22,
   "id": "e1c8ae53",
   "metadata": {},
   "outputs": [
    {
     "name": "stdout",
     "output_type": "stream",
     "text": [
      "[[0.16107023 0.27714047 0.21428571]\n",
      " [0.27714047 0.4658194  0.28571429]\n",
      " [0.0959699  0.0959699  0.21428571]\n",
      " [0.4658194  0.16107023 0.28571429]]\n"
     ]
    }
   ],
   "source": [
    "wM = np.column_stack((w_G, w_A, w_E))\n",
    "print(wM)"
   ]
  },
  {
   "cell_type": "markdown",
   "id": "bf1a94dd",
   "metadata": {},
   "source": [
    "**Menghitung Score Akhir**"
   ]
  },
  {
   "cell_type": "code",
   "execution_count": 23,
   "id": "8e2cce9f",
   "metadata": {},
   "outputs": [
    {
     "name": "stdout",
     "output_type": "stream",
     "text": [
      "Nilai akhir untuk: yamaha, honda, suzuki, kawasaki\n",
      "[0.23226317 0.3833129  0.11047767 0.27394626]\n"
     ]
    }
   ],
   "source": [
    "print('Nilai akhir untuk: yamaha, honda, suzuki, kawasaki')\n",
    "MC_Scores = np.dot(wM, w_MPB)\n",
    "print(MC_Scores)"
   ]
  },
  {
   "cell_type": "markdown",
   "id": "9ea101ab",
   "metadata": {},
   "source": [
    "**Mencari Motor Terbaik**"
   ]
  },
  {
   "cell_type": "code",
   "execution_count": 24,
   "id": "f0faccfe",
   "metadata": {},
   "outputs": [
    {
     "name": "stdout",
     "output_type": "stream",
     "text": [
      "Nilai Motor terbaik terpilih berdasarkan manfaat (kriteria)\n",
      "0.3833128995745455\n"
     ]
    }
   ],
   "source": [
    "print('Nilai Motor terbaik terpilih berdasarkan manfaat (kriteria)')\n",
    "Max_Motor_Score = np.max(MC_Scores)\n",
    "print(Max_Motor_Score)"
   ]
  }
 ],
 "metadata": {
  "kernelspec": {
   "display_name": "Python 3",
   "language": "python",
   "name": "python3"
  },
  "language_info": {
   "codemirror_mode": {
    "name": "ipython",
    "version": 3
   },
   "file_extension": ".py",
   "mimetype": "text/x-python",
   "name": "python",
   "nbconvert_exporter": "python",
   "pygments_lexer": "ipython3",
   "version": "3.13.2"
  }
 },
 "nbformat": 4,
 "nbformat_minor": 5
}
