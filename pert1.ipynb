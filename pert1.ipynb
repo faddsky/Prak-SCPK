{
 "cells": [
  {
   "cell_type": "markdown",
   "metadata": {},
   "source": [
    "# 1. Pengenalan Python"
   ]
  },
  {
   "cell_type": "code",
   "execution_count": null,
   "metadata": {
    "vscode": {
     "languageId": "html"
    }
   },
   "outputs": [],
   "source": [
    "2. Tipe Data dan Variabel"
   ]
  },
  {
   "cell_type": "code",
   "execution_count": 4,
   "metadata": {},
   "outputs": [
    {
     "name": "stdout",
     "output_type": "stream",
     "text": [
      "Integer a :  10\n",
      "Float b :  3.14\n",
      "String c :  bintoro\n",
      "Boolean d :  True\n",
      "List e :  [1, 2, 3, 4, 5]\n",
      "Dictionary f :  {'nama': 'Bambang Elf', 'usia': 3000}\n"
     ]
    }
   ],
   "source": [
    "integer_a = 10\n",
    "float_b = 3.14\n",
    "string_c = \"bintoro\"\n",
    "bool_d = True\n",
    "list_e = [1,2,3,4,5]\n",
    "dict_f = {\"nama\": \"Bambang Elf\", \"usia\": 3000}\n",
    "\n",
    "print(\"Integer a : \", integer_a)\n",
    "print(\"Float b : \", float_b)\n",
    "print(\"String c : \", string_c)\n",
    "print(\"Boolean d : \",bool_d)\n",
    "print(\"List e : \", list_e)\n",
    "print(\"Dictionary f : \", dict_f)"
   ]
  },
  {
   "cell_type": "markdown",
   "metadata": {},
   "source": [
    "#### Input Nilai\n"
   ]
  },
  {
   "cell_type": "code",
   "execution_count": 9,
   "metadata": {},
   "outputs": [
    {
     "name": "stdout",
     "output_type": "stream",
     "text": [
      "99\n",
      "orotnib\n"
     ]
    }
   ],
   "source": [
    "a = input(\"Masukkan Nilai Integer : \")\n",
    "b = input(\"Masukkan Nilai String : \")\n",
    "\n",
    "print(a)\n",
    "print(b)"
   ]
  },
  {
   "cell_type": "markdown",
   "metadata": {},
   "source": [
    "3. Operator\n",
    "    - Penjumlahan : +\n",
    "    - Pengurangan : -\n",
    "    - Perkalian : *\n",
    "    - Pembagian : /\n",
    "    - Modulus : %\n",
    "    - Eksponen : **\n",
    "    - Pembagian Bulat : //"
   ]
  },
  {
   "cell_type": "code",
   "execution_count": null,
   "metadata": {},
   "outputs": [
    {
     "name": "stdout",
     "output_type": "stream",
     "text": [
      "x : 10.2\n",
      "y : 2\n",
      "Penjumlahan\t:  12.2\n",
      "Pengurangan\t:  8.2\n",
      "Perkalian\t:  20.4\n",
      "Pembagian\t:  5.1\n",
      "Modulus\t\t:  0.1999999999999993\n",
      "Eksponen\t:  104.03999999999999\n",
      "Pembagian Bulat :  5.0\n"
     ]
    }
   ],
   "source": [
    "# x = 10\n",
    "# y = 5.3\n",
    "\n",
    "x = float(input(\"X : \"))\n",
    "y = int(input(\"Y : \"))\n",
    "\n",
    "print(f\"x : {x}\\ny : {y}\")\n",
    "print(\"Penjumlahan\\t: \", x + y)\n",
    "print(\"Pengurangan\\t: \", x - y)\n",
    "print(\"Perkalian\\t: \", x * y)\n",
    "print(\"Pembagian\\t: \", x / y)\n",
    "print(\"Modulus\\t\\t: \", x % y)\n",
    "print(\"Eksponen\\t: \", x ** y)\n",
    "print(\"Pembagian Bulat : \", x // y)"
   ]
  },
  {
   "cell_type": "markdown",
   "metadata": {},
   "source": [
    "4. Percabangan"
   ]
  },
  {
   "cell_type": "code",
   "execution_count": null,
   "metadata": {},
   "outputs": [
    {
     "name": "stdout",
     "output_type": "stream",
     "text": [
      "Gimana sih\n"
     ]
    }
   ],
   "source": [
    "nilai = int(input(\"Masukkan Nilai : \"))\n",
    "\n",
    "if nilai >= 85 :\n",
    "    print(\"Aslabnya jago\")\n",
    "elif nilai >= 75 :\n",
    "    print(\"Praktikan Berusaha\")\n",
    "elif 10 <= nilai <= 74 : # nilai >= 10 && nilai <= 74\n",
    "    print(\"Gimana sih\")\n",
    "else :\n",
    "    print(\"Bukan Saya Aslabnya\")"
   ]
  },
  {
   "cell_type": "markdown",
   "metadata": {},
   "source": [
    "5. Looping"
   ]
  },
  {
   "cell_type": "code",
   "execution_count": 34,
   "metadata": {},
   "outputs": [
    {
     "name": "stdout",
     "output_type": "stream",
     "text": [
      "Iterasi ke-1\n",
      "Iterasi ke-2\n",
      "Iterasi ke-3\n",
      "Iterasi ke-4\n",
      "Iterasi ke-5\n",
      "Perulangan ke-0\n",
      "Perulangan ke-1\n",
      "Perulangan ke-2\n",
      "Halo, bintoro1\n",
      "Halo, bintoro2\n",
      "Halo, bintoro3\n"
     ]
    }
   ],
   "source": [
    "for i in range(1, 6):{\n",
    "    print(f\"Iterasi ke-{i}\")\n",
    "}\n",
    "\n",
    "count = 0\n",
    "while count < 3 :\n",
    "    print(f\"Perulangan ke-{count}\")\n",
    "    count += 1\n",
    "\n",
    "mhs = [\"bintoro1\", \"bintoro2\", \"bintoro3\"]\n",
    "for nama in mhs :\n",
    "    print(\"Halo,\", nama)"
   ]
  },
  {
   "cell_type": "markdown",
   "metadata": {},
   "source": [
    "6. Fungsi"
   ]
  },
  {
   "cell_type": "code",
   "execution_count": 36,
   "metadata": {},
   "outputs": [
    {
     "name": "stdout",
     "output_type": "stream",
     "text": [
      "('Halo,', 'bintoro4')\n",
      "Luas Persegi : 16\n"
     ]
    }
   ],
   "source": [
    "def sapa(nama):\n",
    "    return(\"Halo,\", nama)\n",
    "\n",
    "print(sapa(\"bintoro4\"))\n",
    "\n",
    "def luaspersegi(sisi):\n",
    "    return sisi ** 2\n",
    "\n",
    "print(\"Luas Persegi :\", luaspersegi(4))"
   ]
  }
 ],
 "metadata": {
  "kernelspec": {
   "display_name": "Python 3",
   "language": "python",
   "name": "python3"
  },
  "language_info": {
   "codemirror_mode": {
    "name": "ipython",
    "version": 3
   },
   "file_extension": ".py",
   "mimetype": "text/x-python",
   "name": "python",
   "nbconvert_exporter": "python",
   "pygments_lexer": "ipython3",
   "version": "3.13.2"
  }
 },
 "nbformat": 4,
 "nbformat_minor": 2
}
