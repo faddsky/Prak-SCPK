{
 "cells": [
  {
   "cell_type": "markdown",
   "metadata": {},
   "source": [
    "## Pertemuan 7 - Metode WP\n",
    "Studi kasus yang dipilih untuk penerapan metode **Weighted Product (WP)** adalah memilih mobil terbaik berdasarkan beberapa kriteria. Tujuannya untuk membantu pengambilan keputusan dengan mengevaluasi beberapa alternatif (mobil) terhadap serangkaian kriteria."
   ]
  },
  {
   "cell_type": "markdown",
   "metadata": {},
   "source": [
    "## Pengaturan Data\n",
    "- **Alternatif**: Ada 3 Alternatif (Mobil A, Mobil B, Mobil C)\n",
    "- **Kriteria**: Pada kasus ini terdapat 3 kriteria yang dijadikan acuan, yaitu:\n",
    "  - C1: Harga Mobil (Cost)\n",
    "  - C2: Efisiensi Bahan Bakar (Km/l) (Benefit)\n",
    "  - C3: Kekuatan Mesin (HP) (Benefit)\n",
    "- **Bobot Kriteria**: Tingkat kepentingan (bobot) dari tiap kriteria menggunakan nilai dalam skala 1-\n",
    "5 dengan keterangan sebagai berikut:\n",
    "  - 1 : Sangat rendah\n",
    "  - 2 : Rendah\n",
    "  - 3 : Cukup\n",
    "  - 4 : Tinggi\n",
    "  - 5 : Sangat tinggi\n",
    "- **Bobot Tiap Kriteria**:\n",
    "  - Harga = 5\n",
    "  - Efisiensi Bahan Bakar = 4\n",
    "  - Kekuatan Mesin = 4 \n"
   ]
  },
  {
   "cell_type": "markdown",
   "metadata": {},
   "source": [
    "## Matriks Keputusan\n",
    "Matriks keputusan digunakan untuk mengorganisir data untuk setiap alternatif berdasarkan kriteria."
   ]
  },
  {
   "cell_type": "code",
   "execution_count": 1,
   "metadata": {},
   "outputs": [
    {
     "name": "stdout",
     "output_type": "stream",
     "text": [
      "Matriks Keputusan:\n",
      "         Harga  Efisiensi Bahan Bakar  Kekuatan Mesin\n",
      "Mobil A    300                     15             150\n",
      "Mobil B    250                     18             180\n",
      "Mobil C    350                     12             160\n"
     ]
    }
   ],
   "source": [
    "import numpy as np\n",
    "import pandas as pd\n",
    "\n",
    "# Data Alternatif dan Kriteria (Contoh)\n",
    "alternatives = ['Mobil A', 'Mobil B', 'Mobil C']\n",
    "criteria = ['Harga', 'Efisiensi Bahan Bakar', 'Kekuatan Mesin']\n",
    "\n",
    "# Data yang dimasukkan oleh pengguna\n",
    "# Harga (Juta), Efisiensi Bahan Bakar (km/l), Kekuatan Mesin (HP)\n",
    "data = np.array([\n",
    "    [300, 15, 150],  # Mobil A\n",
    "    [250, 18, 180],  # Mobil B\n",
    "    [350, 12, 160]   # Mobil C\n",
    "])\n",
    "\n",
    "# Penentuan Benefit/cost tiap kriteria\n",
    "# Benefit = 1, Cost = -1\n",
    "k = [-1, 1, 1]\n",
    "\n",
    "# Bobot Tiap Kriteria\n",
    "weights = [5, 4, 4]\n",
    "\n",
    "# Matriks Keputusan\n",
    "df = pd.DataFrame(data, index=alternatives, columns=criteria)\n",
    "print(\"Matriks Keputusan:\")\n",
    "print(df)"
   ]
  },
  {
   "cell_type": "markdown",
   "metadata": {},
   "source": [
    "## Normalisasi Nilai Bobot\n",
    "Karena metode ini menggunakan pemangkatan nilai atribut dengan bobotnya, nilai\n",
    "akan menjadi sangat besar jika bobot bernilai besar. Oleh karena itu, bobot dari tiap kriteria\n",
    "harus dinormalisasi"
   ]
  },
  {
   "cell_type": "code",
   "execution_count": 2,
   "metadata": {},
   "outputs": [
    {
     "name": "stdout",
     "output_type": "stream",
     "text": [
      "\n",
      "Normalisasi Bobot:\n",
      "[0.38461538461538464, 0.3076923076923077, 0.3076923076923077]\n"
     ]
    }
   ],
   "source": [
    "# Normalisasi Nilai Bobot\n",
    "# Ambil dimensi dari matriks keputusan\n",
    "# m = Jumlah alternatif, n = Jumlah kriteria\n",
    "m = len(data)\n",
    "n = len(data[0])\n",
    "\n",
    "# Normalisasi bobot kriteria\n",
    "weights_norm = [data/sum(weights) for data in weights]\n",
    "print(\"\\nNormalisasi Bobot:\")\n",
    "print(weights_norm)"
   ]
  },
  {
   "cell_type": "markdown",
   "metadata": {},
   "source": [
    "## Menghitung Vektor S\n",
    "Mengalikan semua nilai atribut yang telah dipangkatkan dengan bobot ternormalisasi."
   ]
  },
  {
   "cell_type": "code",
   "execution_count": 3,
   "metadata": {},
   "outputs": [
    {
     "name": "stdout",
     "output_type": "stream",
     "text": [
      "\n",
      "Vektor S:\n",
      "         Vektor S\n",
      "Mobil A  1.198676\n",
      "Mobil B  1.438411\n",
      "Mobil C  1.075868\n"
     ]
    }
   ],
   "source": [
    "# Menghitung Vektor S\n",
    "s = []\n",
    "for i in range(m):\n",
    "    s_value = 1\n",
    "    for j in range(n):\n",
    "        s_value *= data[i][j] **  (k[j] * weights_norm[j])\n",
    "    s.append(s_value)\n",
    "\n",
    "# Menyajikan hasil Vektor S dalam bentuk tabel\n",
    "s_df = pd.DataFrame(s, index=alternatives, columns=[\"Vektor S\"])\n",
    "print(\"\\nVektor S:\")\n",
    "print(s_df)"
   ]
  },
  {
   "cell_type": "markdown",
   "metadata": {},
   "source": [
    "## Menghitung Vektor V\n",
    "Mencari nilai dari vektor V untuk mencari nilai terbaik. "
   ]
  },
  {
   "cell_type": "code",
   "execution_count": 4,
   "metadata": {},
   "outputs": [
    {
     "name": "stdout",
     "output_type": "stream",
     "text": [
      "\n",
      "Vektor V:\n",
      "         Vektor V\n",
      "Mobil A  0.322836\n",
      "Mobil B  0.387403\n",
      "Mobil C  0.289760\n",
      "\n",
      "Alternatif terbaik adalah: Mobil B\n"
     ]
    }
   ],
   "source": [
    "# Menghitung Vektor V untuk mencari nilai Terbaik\n",
    "total_s = sum(s)\n",
    "v = [s_value / total_s for s_value in s]\n",
    "\n",
    "# Menyajikan hasil Vektor V dalam bentuk tabel\n",
    "v_df = pd.DataFrame(v, index=alternatives, columns=[\"Vektor V\"])\n",
    "print(\"\\nVektor V:\")\n",
    "print(v_df)\n",
    "\n",
    "# Menentukan Alternatif Terbaik\n",
    "best_alternative = alternatives[v.index(max(v))]\n",
    "print(f\"\\nAlternatif terbaik adalah: {best_alternative}\")"
   ]
  }
 ],
 "metadata": {
  "kernelspec": {
   "display_name": "Python 3",
   "language": "python",
   "name": "python3"
  },
  "language_info": {
   "codemirror_mode": {
    "name": "ipython",
    "version": 3
   },
   "file_extension": ".py",
   "mimetype": "text/x-python",
   "name": "python",
   "nbconvert_exporter": "python",
   "pygments_lexer": "ipython3",
   "version": "3.13.2"
  }
 },
 "nbformat": 4,
 "nbformat_minor": 2
}
